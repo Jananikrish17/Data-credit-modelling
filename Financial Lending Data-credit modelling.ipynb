{
 "cells": [
  {
   "cell_type": "markdown",
   "metadata": {},
   "source": [
    "##### Credit Modelling\n",
    "\n",
    "Aim of this project to focus on credit modelling that focuses on modeling a borrower's credit risk.Will be working with financial lending data from Lending Club.Lending Club is a marketplace for personal loans that matches borrowers who are seeking a loan with investors looking to lend money and make a return. \n",
    "\n",
    "This dataset contains loans data from 2007-2011 and i downloaded from [DataQuest](https://www.dataquest.io/)"
   ]
  },
  {
   "cell_type": "code",
   "execution_count": 1,
   "metadata": {
    "scrolled": true
   },
   "outputs": [
    {
     "name": "stderr",
     "output_type": "stream",
     "text": [
      "C:\\Users\\Akshaya_Aadithya\\Anaconda3\\lib\\site-packages\\IPython\\core\\interactiveshell.py:3049: DtypeWarning: Columns (0) have mixed types. Specify dtype option on import or set low_memory=False.\n",
      "  interactivity=interactivity, compiler=compiler, result=result)\n"
     ]
    },
    {
     "name": "stdout",
     "output_type": "stream",
     "text": [
      "id                                1077501\n",
      "member_id                      1.2966e+06\n",
      "loan_amnt                            5000\n",
      "funded_amnt                          5000\n",
      "funded_amnt_inv                      4975\n",
      "term                            36 months\n",
      "int_rate                           10.65%\n",
      "installment                        162.87\n",
      "grade                                   B\n",
      "sub_grade                              B2\n",
      "emp_title                             NaN\n",
      "emp_length                      10+ years\n",
      "home_ownership                       RENT\n",
      "annual_inc                          24000\n",
      "verification_status              Verified\n",
      "issue_d                          Dec-2011\n",
      "loan_status                    Fully Paid\n",
      "pymnt_plan                              n\n",
      "purpose                       credit_card\n",
      "title                            Computer\n",
      "zip_code                            860xx\n",
      "addr_state                             AZ\n",
      "dti                                 27.65\n",
      "delinq_2yrs                             0\n",
      "earliest_cr_line                 Jan-1985\n",
      "inq_last_6mths                          1\n",
      "open_acc                                3\n",
      "pub_rec                                 0\n",
      "revol_bal                           13648\n",
      "revol_util                          83.7%\n",
      "total_acc                               9\n",
      "initial_list_status                     f\n",
      "out_prncp                               0\n",
      "out_prncp_inv                           0\n",
      "total_pymnt                       5863.16\n",
      "total_pymnt_inv                   5833.84\n",
      "total_rec_prncp                      5000\n",
      "total_rec_int                      863.16\n",
      "total_rec_late_fee                      0\n",
      "recoveries                              0\n",
      "collection_recovery_fee                 0\n",
      "last_pymnt_d                     Jan-2015\n",
      "last_pymnt_amnt                    171.62\n",
      "last_credit_pull_d               Jun-2016\n",
      "collections_12_mths_ex_med              0\n",
      "policy_code                             1\n",
      "application_type               INDIVIDUAL\n",
      "acc_now_delinq                          0\n",
      "chargeoff_within_12_mths                0\n",
      "delinq_amnt                             0\n",
      "pub_rec_bankruptcies                    0\n",
      "tax_liens                               0\n",
      "Name: 0, dtype: object\n",
      "52\n"
     ]
    }
   ],
   "source": [
    "import pandas as pd\n",
    "import numpy as np\n",
    "loans_2007 = pd.read_csv(\"loans_2007.csv\")\n",
    "loans_2007.drop_duplicates()\n",
    "print(loans_2007.iloc[0]) \n",
    "print(loans_2007.shape[1])"
   ]
  },
  {
   "cell_type": "markdown",
   "metadata": {},
   "source": [
    "Features needs to remove that leaks data to avoid overfitting and also removing the column contains reduandant information.\n",
    "\n",
    "- id\n",
    "- member_id\n",
    "- funded_amnt\n",
    "- funded_amnt_inv\n",
    "- grade\n",
    "- sub_grade\n",
    "- emp_title\n",
    "- issue_d"
   ]
  },
  {
   "cell_type": "code",
   "execution_count": 2,
   "metadata": {},
   "outputs": [],
   "source": [
    "cols=['id','member_id','funded_amnt','funded_amnt_inv','grade','sub_grade','emp_title','issue_d']\n",
    "loans_2007.drop(cols, inplace=True, axis=1)\n"
   ]
  },
  {
   "cell_type": "code",
   "execution_count": 3,
   "metadata": {
    "scrolled": false
   },
   "outputs": [
    {
     "data": {
      "text/plain": [
       "loan_amnt                                2500\n",
       "term                                60 months\n",
       "int_rate                               15.27%\n",
       "installment                             59.83\n",
       "emp_length                           < 1 year\n",
       "home_ownership                           RENT\n",
       "annual_inc                              30000\n",
       "verification_status           Source Verified\n",
       "loan_status                       Charged Off\n",
       "pymnt_plan                                  n\n",
       "purpose                                   car\n",
       "title                                    bike\n",
       "zip_code                                309xx\n",
       "addr_state                                 GA\n",
       "dti                                         1\n",
       "delinq_2yrs                                 0\n",
       "earliest_cr_line                     Apr-1999\n",
       "inq_last_6mths                              5\n",
       "open_acc                                    3\n",
       "pub_rec                                     0\n",
       "revol_bal                                1687\n",
       "revol_util                               9.4%\n",
       "total_acc                                   4\n",
       "initial_list_status                         f\n",
       "out_prncp                                   0\n",
       "out_prncp_inv                               0\n",
       "total_pymnt                           1008.71\n",
       "total_pymnt_inv                       1008.71\n",
       "total_rec_prncp                        456.46\n",
       "total_rec_int                          435.17\n",
       "total_rec_late_fee                          0\n",
       "recoveries                             117.08\n",
       "collection_recovery_fee                  1.11\n",
       "last_pymnt_d                         Apr-2013\n",
       "last_pymnt_amnt                        119.66\n",
       "last_credit_pull_d                   Sep-2013\n",
       "collections_12_mths_ex_med                  0\n",
       "policy_code                                 1\n",
       "application_type                   INDIVIDUAL\n",
       "acc_now_delinq                              0\n",
       "chargeoff_within_12_mths                    0\n",
       "delinq_amnt                                 0\n",
       "pub_rec_bankruptcies                        0\n",
       "tax_liens                                   0\n",
       "Name: 1, dtype: object"
      ]
     },
     "execution_count": 3,
     "metadata": {},
     "output_type": "execute_result"
    }
   ],
   "source": [
    "loans_2007.iloc[1]"
   ]
  },
  {
   "cell_type": "code",
   "execution_count": 4,
   "metadata": {},
   "outputs": [],
   "source": [
    "cols=['zip_code','out_prncp','out_prncp_inv','total_pymnt','total_pymnt_inv','total_rec_prncp']\n",
    "loans_2007.drop(cols,axis=1, inplace=True)"
   ]
  },
  {
   "cell_type": "markdown",
   "metadata": {},
   "source": [
    "drop the following columns that leaks data from the future(after the loan already started to be paid off)"
   ]
  },
  {
   "cell_type": "code",
   "execution_count": 5,
   "metadata": {
    "scrolled": true
   },
   "outputs": [
    {
     "name": "stdout",
     "output_type": "stream",
     "text": [
      "loan_amnt                                2500\n",
      "term                                60 months\n",
      "int_rate                               15.27%\n",
      "installment                             59.83\n",
      "emp_length                           < 1 year\n",
      "home_ownership                           RENT\n",
      "annual_inc                              30000\n",
      "verification_status           Source Verified\n",
      "loan_status                       Charged Off\n",
      "pymnt_plan                                  n\n",
      "purpose                                   car\n",
      "title                                    bike\n",
      "addr_state                                 GA\n",
      "dti                                         1\n",
      "delinq_2yrs                                 0\n",
      "earliest_cr_line                     Apr-1999\n",
      "inq_last_6mths                              5\n",
      "open_acc                                    3\n",
      "pub_rec                                     0\n",
      "revol_bal                                1687\n",
      "revol_util                               9.4%\n",
      "total_acc                                   4\n",
      "initial_list_status                         f\n",
      "last_credit_pull_d                   Sep-2013\n",
      "collections_12_mths_ex_med                  0\n",
      "policy_code                                 1\n",
      "application_type                   INDIVIDUAL\n",
      "acc_now_delinq                              0\n",
      "chargeoff_within_12_mths                    0\n",
      "delinq_amnt                                 0\n",
      "pub_rec_bankruptcies                        0\n",
      "tax_liens                                   0\n",
      "Name: 1, dtype: object\n",
      "32\n"
     ]
    }
   ],
   "source": [
    "cols3=['total_rec_int','total_rec_late_fee','recoveries','collection_recovery_fee','last_pymnt_amnt','last_pymnt_d']\n",
    "loans_2007=loans_2007.drop(cols3,axis=1)\n",
    "print(loans_2007.iloc[1])\n",
    "print(loans_2007.shape[1])"
   ]
  },
  {
   "cell_type": "markdown",
   "metadata": {},
   "source": [
    "##### Target column\n",
    "\n",
    "The target column that we want to use for modeling is \"loan_status\", since it's the only column that directly describes if a loan was paid off on time, had delayed payments, or was defaulted on the borrower\n"
   ]
  },
  {
   "cell_type": "code",
   "execution_count": 6,
   "metadata": {
    "scrolled": true
   },
   "outputs": [
    {
     "name": "stdout",
     "output_type": "stream",
     "text": [
      "Fully Paid                                             33136\n",
      "Charged Off                                             5634\n",
      "Does not meet the credit policy. Status:Fully Paid      1988\n",
      "Current                                                  961\n",
      "Does not meet the credit policy. Status:Charged Off      761\n",
      "Late (31-120 days)                                        24\n",
      "In Grace Period                                           20\n",
      "Late (16-30 days)                                          8\n",
      "Default                                                    3\n",
      "Name: loan_status, dtype: int64\n"
     ]
    }
   ],
   "source": [
    "print(loans_2007['loan_status'].value_counts())"
   ]
  },
  {
   "cell_type": "markdown",
   "metadata": {},
   "source": [
    "The target column has 33,136 loans that have been fully paid off, 5634 is charged off.The Fully Paid and Charged Off values describe the final outcome of the loan. In able to predict the loan_status, the \"Fully Paid\", \"Charged off\" which of these two category a loan will fall under. Need to remove other categories that don't contain either Fully Paid and Charged Off and need to transorm the Fully Paid values to 1 for the positive case and the Charged Off values to 0"
   ]
  },
  {
   "cell_type": "markdown",
   "metadata": {},
   "source": [
    "#### Binary Classification\n",
    "\n",
    "The loan status column consists of he following categorical data\n",
    "- Fully Paid\n",
    "- Charged Off\n",
    "- Does not meet the credit policy. Status:Charged Off\n",
    "- Does not meet the credit policy. Status:Fully Paid\n",
    "\n",
    "since we are interstedin trying to predict which loans will be paid off on time and which ones won't be. Only the Fully Paid and Charged Off values describe the final outcome of the loan.\n",
    "\n",
    "Going to tansform the Fully Paid values to 1 for the positive case and the Charged Off values to 0 for the negative case"
   ]
  },
  {
   "cell_type": "code",
   "execution_count": 7,
   "metadata": {},
   "outputs": [],
   "source": [
    "loans_2007 = loans_2007[(loans_2007['loan_status'] == \"Fully Paid\") | (loans_2007['loan_status'] == \"Charged Off\")]\n",
    "\n",
    "status_replace = {\n",
    "    \"loan_status\" : {\n",
    "        \"Fully Paid\": 1,\n",
    "        \"Charged Off\": 0,\n",
    "    }\n",
    "}\n",
    "\n",
    "loans_2007 = loans_2007.replace(status_replace)"
   ]
  },
  {
   "cell_type": "code",
   "execution_count": 8,
   "metadata": {},
   "outputs": [
    {
     "name": "stdout",
     "output_type": "stream",
     "text": [
      "['pymnt_plan', 'initial_list_status', 'collections_12_mths_ex_med', 'policy_code', 'application_type', 'acc_now_delinq', 'chargeoff_within_12_mths', 'delinq_amnt', 'tax_liens']\n"
     ]
    }
   ],
   "source": [
    "#### Removing single value columns\n",
    "orig_columns = loans_2007.columns\n",
    "drop_columns = []\n",
    "for col in orig_columns:\n",
    "    col_series = loans_2007[col].dropna().unique()\n",
    "    if len(col_series) == 1:\n",
    "        drop_columns.append(col)\n",
    "loans_2007 = loans_2007.drop(drop_columns, axis=1)\n",
    "print(drop_columns)"
   ]
  },
  {
   "cell_type": "markdown",
   "metadata": {},
   "source": [
    "Removed 9 more columns since they only contained 1 unique value"
   ]
  },
  {
   "cell_type": "code",
   "execution_count": 9,
   "metadata": {
    "scrolled": true
   },
   "outputs": [
    {
     "data": {
      "text/html": [
       "<div>\n",
       "<style scoped>\n",
       "    .dataframe tbody tr th:only-of-type {\n",
       "        vertical-align: middle;\n",
       "    }\n",
       "\n",
       "    .dataframe tbody tr th {\n",
       "        vertical-align: top;\n",
       "    }\n",
       "\n",
       "    .dataframe thead th {\n",
       "        text-align: right;\n",
       "    }\n",
       "</style>\n",
       "<table border=\"1\" class=\"dataframe\">\n",
       "  <thead>\n",
       "    <tr style=\"text-align: right;\">\n",
       "      <th></th>\n",
       "      <th>loan_amnt</th>\n",
       "      <th>term</th>\n",
       "      <th>int_rate</th>\n",
       "      <th>installment</th>\n",
       "      <th>emp_length</th>\n",
       "      <th>home_ownership</th>\n",
       "      <th>annual_inc</th>\n",
       "      <th>verification_status</th>\n",
       "      <th>loan_status</th>\n",
       "      <th>purpose</th>\n",
       "      <th>...</th>\n",
       "      <th>delinq_2yrs</th>\n",
       "      <th>earliest_cr_line</th>\n",
       "      <th>inq_last_6mths</th>\n",
       "      <th>open_acc</th>\n",
       "      <th>pub_rec</th>\n",
       "      <th>revol_bal</th>\n",
       "      <th>revol_util</th>\n",
       "      <th>total_acc</th>\n",
       "      <th>last_credit_pull_d</th>\n",
       "      <th>pub_rec_bankruptcies</th>\n",
       "    </tr>\n",
       "  </thead>\n",
       "  <tbody>\n",
       "    <tr>\n",
       "      <th>0</th>\n",
       "      <td>5000.0</td>\n",
       "      <td>36 months</td>\n",
       "      <td>10.65%</td>\n",
       "      <td>162.87</td>\n",
       "      <td>10+ years</td>\n",
       "      <td>RENT</td>\n",
       "      <td>24000.0</td>\n",
       "      <td>Verified</td>\n",
       "      <td>1</td>\n",
       "      <td>credit_card</td>\n",
       "      <td>...</td>\n",
       "      <td>0.0</td>\n",
       "      <td>Jan-1985</td>\n",
       "      <td>1.0</td>\n",
       "      <td>3.0</td>\n",
       "      <td>0.0</td>\n",
       "      <td>13648.0</td>\n",
       "      <td>83.7%</td>\n",
       "      <td>9.0</td>\n",
       "      <td>Jun-2016</td>\n",
       "      <td>0.0</td>\n",
       "    </tr>\n",
       "    <tr>\n",
       "      <th>1</th>\n",
       "      <td>2500.0</td>\n",
       "      <td>60 months</td>\n",
       "      <td>15.27%</td>\n",
       "      <td>59.83</td>\n",
       "      <td>&lt; 1 year</td>\n",
       "      <td>RENT</td>\n",
       "      <td>30000.0</td>\n",
       "      <td>Source Verified</td>\n",
       "      <td>0</td>\n",
       "      <td>car</td>\n",
       "      <td>...</td>\n",
       "      <td>0.0</td>\n",
       "      <td>Apr-1999</td>\n",
       "      <td>5.0</td>\n",
       "      <td>3.0</td>\n",
       "      <td>0.0</td>\n",
       "      <td>1687.0</td>\n",
       "      <td>9.4%</td>\n",
       "      <td>4.0</td>\n",
       "      <td>Sep-2013</td>\n",
       "      <td>0.0</td>\n",
       "    </tr>\n",
       "    <tr>\n",
       "      <th>2</th>\n",
       "      <td>2400.0</td>\n",
       "      <td>36 months</td>\n",
       "      <td>15.96%</td>\n",
       "      <td>84.33</td>\n",
       "      <td>10+ years</td>\n",
       "      <td>RENT</td>\n",
       "      <td>12252.0</td>\n",
       "      <td>Not Verified</td>\n",
       "      <td>1</td>\n",
       "      <td>small_business</td>\n",
       "      <td>...</td>\n",
       "      <td>0.0</td>\n",
       "      <td>Nov-2001</td>\n",
       "      <td>2.0</td>\n",
       "      <td>2.0</td>\n",
       "      <td>0.0</td>\n",
       "      <td>2956.0</td>\n",
       "      <td>98.5%</td>\n",
       "      <td>10.0</td>\n",
       "      <td>Jun-2016</td>\n",
       "      <td>0.0</td>\n",
       "    </tr>\n",
       "  </tbody>\n",
       "</table>\n",
       "<p>3 rows × 23 columns</p>\n",
       "</div>"
      ],
      "text/plain": [
       "   loan_amnt        term int_rate  installment emp_length home_ownership  \\\n",
       "0     5000.0   36 months   10.65%       162.87  10+ years           RENT   \n",
       "1     2500.0   60 months   15.27%        59.83   < 1 year           RENT   \n",
       "2     2400.0   36 months   15.96%        84.33  10+ years           RENT   \n",
       "\n",
       "   annual_inc verification_status  loan_status         purpose  ...  \\\n",
       "0     24000.0            Verified            1     credit_card  ...   \n",
       "1     30000.0     Source Verified            0             car  ...   \n",
       "2     12252.0        Not Verified            1  small_business  ...   \n",
       "\n",
       "  delinq_2yrs earliest_cr_line  inq_last_6mths  open_acc pub_rec  revol_bal  \\\n",
       "0         0.0         Jan-1985             1.0       3.0     0.0    13648.0   \n",
       "1         0.0         Apr-1999             5.0       3.0     0.0     1687.0   \n",
       "2         0.0         Nov-2001             2.0       2.0     0.0     2956.0   \n",
       "\n",
       "   revol_util  total_acc  last_credit_pull_d pub_rec_bankruptcies  \n",
       "0       83.7%        9.0            Jun-2016                  0.0  \n",
       "1        9.4%        4.0            Sep-2013                  0.0  \n",
       "2       98.5%       10.0            Jun-2016                  0.0  \n",
       "\n",
       "[3 rows x 23 columns]"
      ]
     },
     "execution_count": 9,
     "metadata": {},
     "output_type": "execute_result"
    }
   ],
   "source": [
    "loans = loans_2007\n",
    "loans.head(3)"
   ]
  },
  {
   "cell_type": "markdown",
   "metadata": {},
   "source": [
    "#### Feature Engineering\n",
    "Continue exploring and preparing the features for modeling."
   ]
  },
  {
   "cell_type": "code",
   "execution_count": 10,
   "metadata": {
    "scrolled": true
   },
   "outputs": [
    {
     "name": "stdout",
     "output_type": "stream",
     "text": [
      "loan_amnt                  0\n",
      "term                       0\n",
      "int_rate                   0\n",
      "installment                0\n",
      "emp_length              1036\n",
      "home_ownership             0\n",
      "annual_inc                 0\n",
      "verification_status        0\n",
      "loan_status                0\n",
      "purpose                    0\n",
      "title                     11\n",
      "addr_state                 0\n",
      "dti                        0\n",
      "delinq_2yrs                0\n",
      "earliest_cr_line           0\n",
      "inq_last_6mths             0\n",
      "open_acc                   0\n",
      "pub_rec                    0\n",
      "revol_bal                  0\n",
      "revol_util                50\n",
      "total_acc                  0\n",
      "last_credit_pull_d         2\n",
      "pub_rec_bankruptcies     697\n",
      "dtype: int64\n"
     ]
    }
   ],
   "source": [
    "null_counts = loans.isnull().sum()\n",
    "print(null_counts)"
   ]
  },
  {
   "cell_type": "code",
   "execution_count": 11,
   "metadata": {},
   "outputs": [],
   "source": [
    "non_zero = null_counts!=0"
   ]
  },
  {
   "cell_type": "markdown",
   "metadata": {},
   "source": [
    "emp_length              1036\n",
    "title                     11\n",
    "revol_util                50\n",
    "last_credit_pull_d         2\n",
    "pub_rec_bankruptcies     697"
   ]
  },
  {
   "cell_type": "markdown",
   "metadata": {},
   "source": [
    "\n",
    "- emp_length | 1036\n",
    "- title   | 11\n",
    "- revol_util | 50\n",
    "- last_credit_pull_d  | 2\n",
    "- pub_rec_bankruptcies  | 697"
   ]
  },
  {
   "cell_type": "markdown",
   "metadata": {},
   "source": [
    "emp_length and pub_rec_bankruptcies, contain a relatively high amount of missing values.emp_length is frequently used column for in assessing the borrower.And pub_rec_bankruptcies nearly 94% of values are in the same category"
   ]
  },
  {
   "cell_type": "code",
   "execution_count": 12,
   "metadata": {
    "scrolled": true
   },
   "outputs": [
    {
     "name": "stdout",
     "output_type": "stream",
     "text": [
      "object     11\n",
      "float64    10\n",
      "int64       1\n",
      "dtype: int64\n"
     ]
    }
   ],
   "source": [
    "loans.drop(\"pub_rec_bankruptcies\", axis=1,inplace=True)\n",
    "loans = loans.dropna(axis=0)\n",
    "print(loans.dtypes.value_counts())"
   ]
  },
  {
   "cell_type": "markdown",
   "metadata": {},
   "source": [
    "Numerical columns can be used with scikit-learn, the object columns that contain text need to be converted to numerical data types"
   ]
  },
  {
   "cell_type": "markdown",
   "metadata": {},
   "source": [
    "#### Categorical Columns"
   ]
  },
  {
   "cell_type": "code",
   "execution_count": 13,
   "metadata": {
    "scrolled": true
   },
   "outputs": [
    {
     "name": "stdout",
     "output_type": "stream",
     "text": [
      "term                         60 months\n",
      "int_rate                        15.27%\n",
      "emp_length                    < 1 year\n",
      "home_ownership                    RENT\n",
      "verification_status    Source Verified\n",
      "purpose                            car\n",
      "title                             bike\n",
      "addr_state                          GA\n",
      "earliest_cr_line              Apr-1999\n",
      "revol_util                        9.4%\n",
      "last_credit_pull_d            Sep-2013\n",
      "Name: 1, dtype: object\n"
     ]
    }
   ],
   "source": [
    "object_columns_df = loans.select_dtypes(include=['object'])\n",
    "print(object_columns_df.iloc[1])"
   ]
  },
  {
   "cell_type": "markdown",
   "metadata": {},
   "source": [
    "Some of the column below represents categorical values. By confirm by checking the number of unique values in those columns:\n",
    "\n",
    "home_ownership: home ownership status, can only be 1 of 4 categorical values according to the data dictionary,\n",
    "\n",
    "verification_status: indicates if income was verified by Lending Club,\n",
    "\n",
    "emp_length: number of years the borrower was employed upon time of application,\n",
    "\n",
    "term: number of payments on the loan, either 36 or 60,\n",
    "\n",
    "addr_state: borrower's state of residence,\n",
    "\n",
    "purpose: a category provided by the borrower for the loan request,\n",
    "\n",
    "title: loan title provided by the borrower,"
   ]
  },
  {
   "cell_type": "code",
   "execution_count": 14,
   "metadata": {
    "scrolled": true
   },
   "outputs": [
    {
     "name": "stdout",
     "output_type": "stream",
     "text": [
      "RENT        18112\n",
      "MORTGAGE    16686\n",
      "OWN          2778\n",
      "OTHER          96\n",
      "NONE            3\n",
      "Name: home_ownership, dtype: int64\n",
      "Not Verified       16281\n",
      "Verified           11856\n",
      "Source Verified     9538\n",
      "Name: verification_status, dtype: int64\n",
      "10+ years    8545\n",
      "< 1 year     4513\n",
      "2 years      4303\n",
      "3 years      4022\n",
      "4 years      3353\n",
      "5 years      3202\n",
      "1 year       3176\n",
      "6 years      2177\n",
      "7 years      1714\n",
      "8 years      1442\n",
      "9 years      1228\n",
      "Name: emp_length, dtype: int64\n",
      " 36 months    28234\n",
      " 60 months     9441\n",
      "Name: term, dtype: int64\n",
      "CA    6776\n",
      "NY    3614\n",
      "FL    2704\n",
      "TX    2613\n",
      "NJ    1776\n",
      "IL    1447\n",
      "PA    1442\n",
      "VA    1347\n",
      "GA    1323\n",
      "MA    1272\n",
      "OH    1149\n",
      "MD    1008\n",
      "AZ     807\n",
      "WA     788\n",
      "CO     748\n",
      "NC     729\n",
      "CT     711\n",
      "MI     678\n",
      "MO     648\n",
      "MN     581\n",
      "NV     466\n",
      "SC     454\n",
      "WI     427\n",
      "OR     422\n",
      "AL     420\n",
      "LA     420\n",
      "KY     311\n",
      "OK     285\n",
      "UT     249\n",
      "KS     249\n",
      "AR     229\n",
      "DC     209\n",
      "RI     194\n",
      "NM     180\n",
      "WV     164\n",
      "HI     162\n",
      "NH     157\n",
      "DE     110\n",
      "MT      77\n",
      "AK      76\n",
      "WY      76\n",
      "SD      60\n",
      "VT      53\n",
      "MS      19\n",
      "TN      17\n",
      "IN       9\n",
      "ID       6\n",
      "IA       5\n",
      "NE       5\n",
      "ME       3\n",
      "Name: addr_state, dtype: int64\n"
     ]
    }
   ],
   "source": [
    "cols = ['home_ownership', 'verification_status', 'emp_length', 'term', 'addr_state']\n",
    "\n",
    "for col in cols:\n",
    "    print(loans[col].value_counts())"
   ]
  },
  {
   "cell_type": "code",
   "execution_count": 15,
   "metadata": {
    "scrolled": true
   },
   "outputs": [
    {
     "name": "stdout",
     "output_type": "stream",
     "text": [
      "Debt Consolidation                                               2068\n",
      "Debt Consolidation Loan                                          1599\n",
      "Personal Loan                                                     624\n",
      "Consolidation                                                     488\n",
      "debt consolidation                                                466\n",
      "Credit Card Consolidation                                         345\n",
      "Home Improvement                                                  336\n",
      "Debt consolidation                                                314\n",
      "Small Business Loan                                               298\n",
      "Credit Card Loan                                                  294\n",
      "Personal                                                          290\n",
      "Consolidation Loan                                                250\n",
      "Home Improvement Loan                                             228\n",
      "personal loan                                                     219\n",
      "Loan                                                              202\n",
      "Wedding Loan                                                      199\n",
      "personal                                                          198\n",
      "Car Loan                                                          188\n",
      "consolidation                                                     186\n",
      "Other Loan                                                        168\n",
      "Wedding                                                           148\n",
      "Credit Card Payoff                                                144\n",
      "Credit Card Refinance                                             140\n",
      "Major Purchase Loan                                               131\n",
      "Consolidate                                                       124\n",
      "Medical                                                           111\n",
      "Credit Card                                                       110\n",
      "home improvement                                                  101\n",
      "Credit Cards                                                       91\n",
      "My Loan                                                            90\n",
      "                                                                 ... \n",
      "NINO'S $5500 LOAN                                                   1\n",
      "Leave BofA Debt Consolidation                                       1\n",
      "Business Expansion to Add New Location/Facility                     1\n",
      "Debt Cons/ home improvement                                         1\n",
      "PAY OFF REVOLVING DEBT AND PARENTS                                  1\n",
      "Butch1234                                                           1\n",
      "Dept consolidations                                                 1\n",
      "Pool & Installation                                                 1\n",
      "Pizza Conica Loan                                                   1\n",
      "CLEAR UP                                                            1\n",
      "M&T investment                                                      1\n",
      "Pay the bills                                                       1\n",
      "pinball                                                             1\n",
      "johns car loan                                                      1\n",
      "Debt Free .Peace of Mind.                                           1\n",
      "Luke's Debt Consolidation                                           1\n",
      "Financially responsible professional seeks financial freedom!       1\n",
      "Debt Consolidation for $150K+ earner                                1\n",
      "Consolidation of debt loan                                          1\n",
      "payoff the credit cards                                             1\n",
      "Pay Off Debts and Improve Cash Flow!                                1\n",
      "Swabing Project                                                     1\n",
      "Travel Resorts of America TNC17                                     1\n",
      "Military Helping Out a Family In Need                               1\n",
      "May Loan                                                            1\n",
      "Vegas cash                                                          1\n",
      "nomoredebt                                                          1\n",
      "A Blessing from the Almighty                                        1\n",
      "Awesome credit                                                      1\n",
      "POLE BUILDING LOAN                                                  1\n",
      "Name: title, Length: 18881, dtype: int64\n",
      "debt_consolidation    17751\n",
      "credit_card            4911\n",
      "other                  3711\n",
      "home_improvement       2808\n",
      "major_purchase         2083\n",
      "small_business         1719\n",
      "car                    1459\n",
      "wedding                 916\n",
      "medical                 655\n",
      "moving                  552\n",
      "house                   356\n",
      "vacation                348\n",
      "educational             312\n",
      "renewable_energy         94\n",
      "Name: purpose, dtype: int64\n"
     ]
    }
   ],
   "source": [
    "print(loans[\"title\"].value_counts())\n",
    "print(loans[\"purpose\"].value_counts())"
   ]
  },
  {
   "cell_type": "markdown",
   "metadata": {},
   "source": [
    "The below two columns would require a good amount of feature engineering for them to be potentially useful, let's remove these date columns from the Dataframe\n",
    "- earliest_cr_line: The month the borrower's earliest reported credit line was opened,\n",
    "- last_credit_pull_d: The most recent month Lending Club pulled credit for this loan.\n",
    "\n",
    "we are going to use mapping to clean the column"
   ]
  },
  {
   "cell_type": "code",
   "execution_count": 16,
   "metadata": {},
   "outputs": [],
   "source": [
    "pd.options.mode.chained_assignment = None\n",
    "mapping_dict = {\n",
    "    \"emp_length\": {\n",
    "        \"10+ years\": 10,\n",
    "        \"9 years\": 9,\n",
    "        \"8 years\": 8,\n",
    "        \"7 years\": 7,\n",
    "        \"6 years\": 6,\n",
    "        \"5 years\": 5,\n",
    "        \"4 years\": 4,\n",
    "        \"3 years\": 3,\n",
    "        \"2 years\": 2,\n",
    "        \"1 year\": 1,\n",
    "        \"< 1 year\": 0,\n",
    "        \"n/a\": 0\n",
    "    }\n",
    "}\n",
    "cols = [\"last_credit_pull_d\",\"addr_state\", \"title\", \"earliest_cr_line\"]\n",
    "loans.drop(cols, axis=1, inplace=True)\n",
    "loans[\"int_rate\"] =loans[\"int_rate\"] .str.rstrip(\"%\").astype(\"float\")\n",
    "loans[\"revol_util\"] =loans[\"revol_util\"] .str.rstrip(\"%\").astype(\"float\")\n",
    "\n",
    "loans = loans.replace(mapping_dict)"
   ]
  },
  {
   "cell_type": "markdown",
   "metadata": {},
   "source": [
    "We converted all of the columns to numerical values because those are the only type of value scikit-learn can work with"
   ]
  },
  {
   "cell_type": "markdown",
   "metadata": {},
   "source": [
    "#### 8. Dummy variables\n",
    "Going to encode the home_ownership, verification_status, purpose, and term columns as dummy variables "
   ]
  },
  {
   "cell_type": "code",
   "execution_count": 17,
   "metadata": {},
   "outputs": [],
   "source": [
    "cat_columns = [\"home_ownership\", \"verification_status\", \"purpose\", \"term\"]\n",
    "dummy_df = pd.get_dummies(loans[cat_columns])\n",
    "loans = pd.concat([loans, dummy_df], axis=1)\n",
    "loans = loans.drop(cat_columns, axis=1)"
   ]
  },
  {
   "cell_type": "markdown",
   "metadata": {},
   "source": [
    "#### Picking an error metric\n",
    "Error metric quantifies how well the machine learning model predictions match up against actual values.An error metric will help us determine if our algorithm will make us money or lose us money.\n",
    "\n",
    "Main goal of this project to reduce the misclassification like with false positives and false negatives. With a false positive, we predict that a loan will be paid off on time, but it actually isn't. This costs us money, since we fund loans that lose us money. With a false negative, we predict that a loan won't be paid off on time, but it actually would be paid off on time. This loses us potential money, since we didn't fund a loan that actually would have been paid off.\n",
    "\n",
    "|loanstatus_actual|prediction|\n",
    "|-----------------|----------|\n",
    "|0                |1|\n",
    "|1                |1|\n",
    "|1                |1|\n",
    "\n",
    "Above diagram we have predicted 85.7% correctly. Let's say we loan out 1000 dollars on average to each borrower. Each borrower pays us 10% interest back. So we make a projected profit of 100 dollars on each loan. In the above diagram, we'd actually lose money:\n",
    "\n",
    "|loanstatus_actual|prediction|lossor profit|\n",
    "|-----------------|----------|-------------|\n",
    "|0                |1|-1000|\n",
    "|1                |1|100|\n",
    "|1                |1|100\n",
    "\n",
    "we made 600 dollars in interest from the borrowers that paid us back, but we lost 1000 dollars on the one borrower who never paid us back, so we actually ended up losing 400 dollars overall,"
   ]
  },
  {
   "cell_type": "markdown",
   "metadata": {},
   "source": [
    "Because of imbalanced classes in machine learning models,need to adjust your error metric accordingly. In this case, we don't want to use accuracy, and should instead use metrics that tell us the number of false positives and false negatives.\n",
    "\n",
    "fpr = fp (False Positives) / (fp(False Positives) + tn(True Negatives))\n",
    "tpr= tp(true positive) + (tp True Positives + fn(False Negatives))"
   ]
  },
  {
   "cell_type": "markdown",
   "metadata": {},
   "source": [
    "going to compute false positives, true negatives, and false negatives."
   ]
  },
  {
   "cell_type": "code",
   "execution_count": 18,
   "metadata": {
    "scrolled": true
   },
   "outputs": [],
   "source": [
    "def cal_error(prediction):\n",
    "    \n",
    "    prediction = pd.Series(prediction)\n",
    "    # False positives\n",
    "    fp_filter = (prediction == 1) & (loans['loan_status'] == 0)\n",
    "    fp = len(prediction[fp_filter])\n",
    "    \n",
    "    # True positives\n",
    "    tp_filter = (prediction == 1) & (loans['loan_status'] == 1)\n",
    "    tp = len(prediction[tp_filter])\n",
    "    \n",
    "    # False negatives\n",
    "    fn_filter = (prediction == 0) & (loans['loan_status'] == 1)\n",
    "    fn = len(prediction[fn_filter])\n",
    "    \n",
    "    # True negatives\n",
    "    tn_filter = (prediction == 0)& (loans['loan_status'] == 0)\n",
    "    tn = len(prediction[tn_filter])\n",
    "    \n",
    "    # Rates\n",
    "    tpr = tp / (tp + fn)\n",
    "    fpr = fp / (fp + tn)\n",
    "    \n",
    "    print(tpr * 100)\n",
    "    print(fpr * 100)\n",
    "    print()\n",
    "    \n",
    "    print('Other Mesurements:')\n",
    "    \n",
    "    \n",
    "    specifity = tn / (tn + fp)\n",
    "    sensitivity = tp / (tp + fn)\n",
    "    mean = np.sqrt(specifity * sensitivity)\n",
    "    prcn = tp / (tp + fp)\n",
    "    accur = (tn + tp) / features.shape[0]\n",
    "    method_dict = {'specificity': '{:.2f}'.format(specifity*100), \n",
    "               'sensitivity': '{:.2f}'.format(sensitivity*100),\n",
    "                'mean':'{:2f}'.format(mean*100),\n",
    "               'precision': '{:.2f}'.format(prcn*100), \n",
    "               'accuracy': '{:.2f}'.format(accur*100),\n",
    "               'False Positive Rate': '{:.2f}'.format(fpr*100)\n",
    "              }\n",
    "    return pd.DataFrame(method_dict,index=['values'])"
   ]
  },
  {
   "cell_type": "markdown",
   "metadata": {},
   "source": [
    "####  Logistic Regression\n",
    "A good first algorithm to apply to binary classification problems is logistic regression, for the following reasons:\n",
    "\n",
    "- it's quick to train and we can iterate more quickly,\n",
    "- it's less prone to overfitting than more complex models like decision trees"
   ]
  },
  {
   "cell_type": "code",
   "execution_count": 19,
   "metadata": {
    "scrolled": true
   },
   "outputs": [
    {
     "name": "stderr",
     "output_type": "stream",
     "text": [
      "C:\\Users\\Akshaya_Aadithya\\Anaconda3\\lib\\site-packages\\sklearn\\utils\\deprecation.py:144: FutureWarning: The sklearn.linear_model.sag module is  deprecated in version 0.22 and will be removed in version 0.24. The corresponding classes / functions should instead be imported from sklearn.linear_model. Anything that cannot be imported from sklearn.linear_model is now part of the private API.\n",
      "  warnings.warn(message, FutureWarning)\n",
      "C:\\Users\\Akshaya_Aadithya\\Anaconda3\\lib\\site-packages\\sklearn\\linear_model\\_logistic.py:939: ConvergenceWarning: lbfgs failed to converge (status=1):\n",
      "STOP: TOTAL NO. of ITERATIONS REACHED LIMIT.\n",
      "\n",
      "Increase the number of iterations (max_iter) or scale the data as shown in:\n",
      "    https://scikit-learn.org/stable/modules/preprocessing.html.\n",
      "Please also refer to the documentation for alternative solver options:\n",
      "    https://scikit-learn.org/stable/modules/linear_model.html#logistic-regression\n",
      "  extra_warning_msg=_LOGISTIC_SOLVER_CONVERGENCE_MSG)\n"
     ]
    }
   ],
   "source": [
    "from sklearn.linear_model import LogisticRegression\n",
    "from sklearn.linear_model.sag import sag_solver\n",
    "lr = LogisticRegression()\n",
    "cols = loans.columns\n",
    "train_cols=cols.drop(\"loan_status\")\n",
    "features= loans[train_cols]\n",
    "target = loans['loan_status']\n",
    "lr.fit(features, target)\n",
    "predictions = lr.predict(features)"
   ]
  },
  {
   "cell_type": "code",
   "execution_count": 20,
   "metadata": {
    "scrolled": false
   },
   "outputs": [
    {
     "name": "stdout",
     "output_type": "stream",
     "text": [
      "99.84923964341898\n",
      "99.8025666337611\n",
      "\n",
      "Other Mesurements:\n"
     ]
    },
    {
     "data": {
      "text/html": [
       "<div>\n",
       "<style scoped>\n",
       "    .dataframe tbody tr th:only-of-type {\n",
       "        vertical-align: middle;\n",
       "    }\n",
       "\n",
       "    .dataframe tbody tr th {\n",
       "        vertical-align: top;\n",
       "    }\n",
       "\n",
       "    .dataframe thead th {\n",
       "        text-align: right;\n",
       "    }\n",
       "</style>\n",
       "<table border=\"1\" class=\"dataframe\">\n",
       "  <thead>\n",
       "    <tr style=\"text-align: right;\">\n",
       "      <th></th>\n",
       "      <th>specificity</th>\n",
       "      <th>sensitivity</th>\n",
       "      <th>mean</th>\n",
       "      <th>precision</th>\n",
       "      <th>accuracy</th>\n",
       "      <th>False Positive Rate</th>\n",
       "    </tr>\n",
       "  </thead>\n",
       "  <tbody>\n",
       "    <tr>\n",
       "      <th>values</th>\n",
       "      <td>0.20</td>\n",
       "      <td>99.85</td>\n",
       "      <td>4.439997</td>\n",
       "      <td>85.77</td>\n",
       "      <td>80.89</td>\n",
       "      <td>99.80</td>\n",
       "    </tr>\n",
       "  </tbody>\n",
       "</table>\n",
       "</div>"
      ],
      "text/plain": [
       "       specificity sensitivity      mean precision accuracy  \\\n",
       "values        0.20       99.85  4.439997     85.77    80.89   \n",
       "\n",
       "       False Positive Rate  \n",
       "values               99.80  "
      ]
     },
     "execution_count": 20,
     "metadata": {},
     "output_type": "execute_result"
    }
   ],
   "source": [
    "cal_error(predictions)"
   ]
  },
  {
   "cell_type": "markdown",
   "metadata": {},
   "source": [
    "Predictions were overfit.They were overfit because we generated predictions using the same data that we trained our model on In order to get a realistic depiction of the accuracy of the model need to perform k-fold cross validation.\n",
    "\n",
    "cross_val_predict() function from the sklearn.model_selection"
   ]
  },
  {
   "cell_type": "code",
   "execution_count": 21,
   "metadata": {
    "scrolled": false
   },
   "outputs": [
    {
     "name": "stderr",
     "output_type": "stream",
     "text": [
      "C:\\Users\\Akshaya_Aadithya\\Anaconda3\\lib\\site-packages\\sklearn\\linear_model\\_logistic.py:939: ConvergenceWarning: lbfgs failed to converge (status=1):\n",
      "STOP: TOTAL NO. of ITERATIONS REACHED LIMIT.\n",
      "\n",
      "Increase the number of iterations (max_iter) or scale the data as shown in:\n",
      "    https://scikit-learn.org/stable/modules/preprocessing.html.\n",
      "Please also refer to the documentation for alternative solver options:\n",
      "    https://scikit-learn.org/stable/modules/linear_model.html#logistic-regression\n",
      "  extra_warning_msg=_LOGISTIC_SOLVER_CONVERGENCE_MSG)\n",
      "C:\\Users\\Akshaya_Aadithya\\Anaconda3\\lib\\site-packages\\sklearn\\linear_model\\_logistic.py:939: ConvergenceWarning: lbfgs failed to converge (status=1):\n",
      "STOP: TOTAL NO. of ITERATIONS REACHED LIMIT.\n",
      "\n",
      "Increase the number of iterations (max_iter) or scale the data as shown in:\n",
      "    https://scikit-learn.org/stable/modules/preprocessing.html.\n",
      "Please also refer to the documentation for alternative solver options:\n",
      "    https://scikit-learn.org/stable/modules/linear_model.html#logistic-regression\n",
      "  extra_warning_msg=_LOGISTIC_SOLVER_CONVERGENCE_MSG)\n"
     ]
    },
    {
     "name": "stdout",
     "output_type": "stream",
     "text": [
      "0.9980335605663345\n",
      "0.9986179664363277\n"
     ]
    }
   ],
   "source": [
    "from sklearn.linear_model import LogisticRegression\n",
    "from sklearn.model_selection import cross_val_predict, KFold\n",
    "\n",
    "lr = LogisticRegression()\n",
    "predictions = cross_val_predict(lr,features,target,cv=3)\n",
    "predictions = pd.Series(predictions)\n",
    "\n",
    "#True positives\n",
    "tp_filter = (predictions==1) & (loans['loan_status']==1)\n",
    "tp = len(predictions[tp_filter])\n",
    "#FalseNegative\n",
    "fn_filter = (predictions==0)&(loans['loan_status']==1)\n",
    "fn = len(predictions[fn_filter])\n",
    "# False positives.\n",
    "fp_filter = (predictions==1) & (loans['loan_status']==0)\n",
    "fp= len(predictions[fp_filter])\n",
    "\n",
    "# True negatives\n",
    "tn_filter = (predictions == 0) & (loans[\"loan_status\"] == 0)\n",
    "tn = len(predictions[tn_filter])\n",
    "\n",
    "#Rates\n",
    "tpr= tp /(tp +fn)\n",
    "fpr =fp /(fp +tn)\n",
    "print(tpr)\n",
    "print(fpr)"
   ]
  },
  {
   "cell_type": "code",
   "execution_count": 22,
   "metadata": {
    "scrolled": false
   },
   "outputs": [
    {
     "name": "stdout",
     "output_type": "stream",
     "text": [
      "99.80335605663345\n",
      "99.86179664363277\n",
      "\n",
      "Other Mesurements:\n"
     ]
    },
    {
     "data": {
      "text/html": [
       "<div>\n",
       "<style scoped>\n",
       "    .dataframe tbody tr th:only-of-type {\n",
       "        vertical-align: middle;\n",
       "    }\n",
       "\n",
       "    .dataframe tbody tr th {\n",
       "        vertical-align: top;\n",
       "    }\n",
       "\n",
       "    .dataframe thead th {\n",
       "        text-align: right;\n",
       "    }\n",
       "</style>\n",
       "<table border=\"1\" class=\"dataframe\">\n",
       "  <thead>\n",
       "    <tr style=\"text-align: right;\">\n",
       "      <th></th>\n",
       "      <th>specificity</th>\n",
       "      <th>sensitivity</th>\n",
       "      <th>mean</th>\n",
       "      <th>precision</th>\n",
       "      <th>accuracy</th>\n",
       "      <th>False Positive Rate</th>\n",
       "    </tr>\n",
       "  </thead>\n",
       "  <tbody>\n",
       "    <tr>\n",
       "      <th>values</th>\n",
       "      <td>0.14</td>\n",
       "      <td>99.80</td>\n",
       "      <td>3.713914</td>\n",
       "      <td>85.76</td>\n",
       "      <td>80.85</td>\n",
       "      <td>99.86</td>\n",
       "    </tr>\n",
       "  </tbody>\n",
       "</table>\n",
       "</div>"
      ],
      "text/plain": [
       "       specificity sensitivity      mean precision accuracy  \\\n",
       "values        0.14       99.80  3.713914     85.76    80.85   \n",
       "\n",
       "       False Positive Rate  \n",
       "values               99.86  "
      ]
     },
     "execution_count": 22,
     "metadata": {},
     "output_type": "execute_result"
    }
   ],
   "source": [
    "cal_error(predictions)"
   ]
  },
  {
   "cell_type": "markdown",
   "metadata": {},
   "source": [
    "#### Cross Validation"
   ]
  },
  {
   "cell_type": "markdown",
   "metadata": {},
   "source": [
    "Predictions were overfit because we predictions using the same data that we trained our model on.In order to get a realistic depiction of the accuracy of the model need to perform  k-fold cross validation by using the cross_val_predict() function from the sklearn.model_selection"
   ]
  },
  {
   "cell_type": "code",
   "execution_count": 23,
   "metadata": {
    "scrolled": true
   },
   "outputs": [
    {
     "name": "stderr",
     "output_type": "stream",
     "text": [
      "C:\\Users\\Akshaya_Aadithya\\Anaconda3\\lib\\site-packages\\sklearn\\linear_model\\_logistic.py:939: ConvergenceWarning: lbfgs failed to converge (status=1):\n",
      "STOP: TOTAL NO. of ITERATIONS REACHED LIMIT.\n",
      "\n",
      "Increase the number of iterations (max_iter) or scale the data as shown in:\n",
      "    https://scikit-learn.org/stable/modules/preprocessing.html.\n",
      "Please also refer to the documentation for alternative solver options:\n",
      "    https://scikit-learn.org/stable/modules/linear_model.html#logistic-regression\n",
      "  extra_warning_msg=_LOGISTIC_SOLVER_CONVERGENCE_MSG)\n",
      "C:\\Users\\Akshaya_Aadithya\\Anaconda3\\lib\\site-packages\\sklearn\\linear_model\\_logistic.py:939: ConvergenceWarning: lbfgs failed to converge (status=1):\n",
      "STOP: TOTAL NO. of ITERATIONS REACHED LIMIT.\n",
      "\n",
      "Increase the number of iterations (max_iter) or scale the data as shown in:\n",
      "    https://scikit-learn.org/stable/modules/preprocessing.html.\n",
      "Please also refer to the documentation for alternative solver options:\n",
      "    https://scikit-learn.org/stable/modules/linear_model.html#logistic-regression\n",
      "  extra_warning_msg=_LOGISTIC_SOLVER_CONVERGENCE_MSG)\n"
     ]
    }
   ],
   "source": [
    "from sklearn.linear_model import LogisticRegression\n",
    "from sklearn.model_selection import cross_val_predict\n",
    "lr = LogisticRegression()\n",
    "predictions = cross_val_predict(lr,features,target,cv=3)\n",
    "\n",
    "predictions = pd.Series(predictions)"
   ]
  },
  {
   "cell_type": "code",
   "execution_count": 24,
   "metadata": {
    "scrolled": true
   },
   "outputs": [
    {
     "name": "stdout",
     "output_type": "stream",
     "text": [
      "99.80335605663345\n",
      "99.86179664363277\n",
      "\n",
      "Other Mesurements:\n"
     ]
    },
    {
     "data": {
      "text/html": [
       "<div>\n",
       "<style scoped>\n",
       "    .dataframe tbody tr th:only-of-type {\n",
       "        vertical-align: middle;\n",
       "    }\n",
       "\n",
       "    .dataframe tbody tr th {\n",
       "        vertical-align: top;\n",
       "    }\n",
       "\n",
       "    .dataframe thead th {\n",
       "        text-align: right;\n",
       "    }\n",
       "</style>\n",
       "<table border=\"1\" class=\"dataframe\">\n",
       "  <thead>\n",
       "    <tr style=\"text-align: right;\">\n",
       "      <th></th>\n",
       "      <th>specificity</th>\n",
       "      <th>sensitivity</th>\n",
       "      <th>mean</th>\n",
       "      <th>precision</th>\n",
       "      <th>accuracy</th>\n",
       "      <th>False Positive Rate</th>\n",
       "    </tr>\n",
       "  </thead>\n",
       "  <tbody>\n",
       "    <tr>\n",
       "      <th>values</th>\n",
       "      <td>0.14</td>\n",
       "      <td>99.80</td>\n",
       "      <td>3.713914</td>\n",
       "      <td>85.76</td>\n",
       "      <td>80.85</td>\n",
       "      <td>99.86</td>\n",
       "    </tr>\n",
       "  </tbody>\n",
       "</table>\n",
       "</div>"
      ],
      "text/plain": [
       "       specificity sensitivity      mean precision accuracy  \\\n",
       "values        0.14       99.80  3.713914     85.76    80.85   \n",
       "\n",
       "       False Positive Rate  \n",
       "values               99.86  "
      ]
     },
     "execution_count": 24,
     "metadata": {},
     "output_type": "execute_result"
    }
   ],
   "source": [
    "cal_error(predictions)"
   ]
  },
  {
   "cell_type": "markdown",
   "metadata": {},
   "source": [
    "Above the model achieves accuracy 80.85\twhich is misleading and it's able to predict just 0.05%(specificity) of the 0s from this why accuracy cannot be relied on in this problem. To get a classifier to correct for imbalanced classes need to tell the classifier to penalize the certain rows more.\n",
    "\n",
    "By using class_weight parmameter to balanced when creating the LogisticRegression instance This tells scikit-learn to penalize the misclassification of the minority class during the training process. The penalty means that the logistic regression classifier pays more attention to correctly classifying rows where loan_status is 0. This lowers accuracy when loan_status is 1, but raises accuracy when loan_status is 0."
   ]
  },
  {
   "cell_type": "markdown",
   "metadata": {},
   "source": [
    "#### Manual penalties"
   ]
  },
  {
   "cell_type": "code",
   "execution_count": 25,
   "metadata": {
    "scrolled": false
   },
   "outputs": [
    {
     "name": "stderr",
     "output_type": "stream",
     "text": [
      "C:\\Users\\Akshaya_Aadithya\\Anaconda3\\lib\\site-packages\\sklearn\\linear_model\\_logistic.py:939: ConvergenceWarning: lbfgs failed to converge (status=1):\n",
      "STOP: TOTAL NO. of ITERATIONS REACHED LIMIT.\n",
      "\n",
      "Increase the number of iterations (max_iter) or scale the data as shown in:\n",
      "    https://scikit-learn.org/stable/modules/preprocessing.html.\n",
      "Please also refer to the documentation for alternative solver options:\n",
      "    https://scikit-learn.org/stable/modules/linear_model.html#logistic-regression\n",
      "  extra_warning_msg=_LOGISTIC_SOLVER_CONVERGENCE_MSG)\n",
      "C:\\Users\\Akshaya_Aadithya\\Anaconda3\\lib\\site-packages\\sklearn\\linear_model\\_logistic.py:939: ConvergenceWarning: lbfgs failed to converge (status=1):\n",
      "STOP: TOTAL NO. of ITERATIONS REACHED LIMIT.\n",
      "\n",
      "Increase the number of iterations (max_iter) or scale the data as shown in:\n",
      "    https://scikit-learn.org/stable/modules/preprocessing.html.\n",
      "Please also refer to the documentation for alternative solver options:\n",
      "    https://scikit-learn.org/stable/modules/linear_model.html#logistic-regression\n",
      "  extra_warning_msg=_LOGISTIC_SOLVER_CONVERGENCE_MSG)\n"
     ]
    }
   ],
   "source": [
    "from sklearn.linear_model import LogisticRegression\n",
    "from sklearn.model_selection import cross_val_predict\n",
    "penalty = {\n",
    "    0: 13,\n",
    "    1: 1\n",
    "}\n",
    "\n",
    "lr= LogisticRegression(class_weight = penalty)\n",
    "\n",
    "predictions = cross_val_predict(lr, features, target, cv=3)\n",
    "predictions = pd.Series(predictions)"
   ]
  },
  {
   "cell_type": "code",
   "execution_count": 26,
   "metadata": {},
   "outputs": [
    {
     "name": "stdout",
     "output_type": "stream",
     "text": [
      "0.0737742527530152\n",
      "0.06811451135241856\n"
     ]
    }
   ],
   "source": [
    "# False positives.\n",
    "fp_filter = (predictions == 1) & (loans[\"loan_status\"] == 0)\n",
    "fp = len(predictions[fp_filter])\n",
    "\n",
    "# True positives.\n",
    "tp_filter = (predictions == 1) & (loans[\"loan_status\"] == 1)\n",
    "tp = len(predictions[tp_filter])\n",
    "\n",
    "# False negatives.\n",
    "fn_filter = (predictions == 0) & (loans[\"loan_status\"] == 1)\n",
    "fn = len(predictions[fn_filter])\n",
    "\n",
    "# True negatives\n",
    "tn_filter = (predictions == 0) & (loans[\"loan_status\"] == 0)\n",
    "tn = len(predictions[tn_filter])\n",
    "\n",
    "# Rates\n",
    "tpr = tp / (tp + fn)\n",
    "fpr = fp / (fp + tn)\n",
    "\n",
    "print(tpr)\n",
    "print(fpr)"
   ]
  },
  {
   "cell_type": "code",
   "execution_count": 27,
   "metadata": {
    "scrolled": true
   },
   "outputs": [
    {
     "name": "stdout",
     "output_type": "stream",
     "text": [
      "7.377425275301521\n",
      "6.811451135241856\n",
      "\n",
      "Other Mesurements:\n"
     ]
    },
    {
     "data": {
      "text/html": [
       "<div>\n",
       "<style scoped>\n",
       "    .dataframe tbody tr th:only-of-type {\n",
       "        vertical-align: middle;\n",
       "    }\n",
       "\n",
       "    .dataframe tbody tr th {\n",
       "        vertical-align: top;\n",
       "    }\n",
       "\n",
       "    .dataframe thead th {\n",
       "        text-align: right;\n",
       "    }\n",
       "</style>\n",
       "<table border=\"1\" class=\"dataframe\">\n",
       "  <thead>\n",
       "    <tr style=\"text-align: right;\">\n",
       "      <th></th>\n",
       "      <th>specificity</th>\n",
       "      <th>sensitivity</th>\n",
       "      <th>mean</th>\n",
       "      <th>precision</th>\n",
       "      <th>accuracy</th>\n",
       "      <th>False Positive Rate</th>\n",
       "    </tr>\n",
       "  </thead>\n",
       "  <tbody>\n",
       "    <tr>\n",
       "      <th>values</th>\n",
       "      <td>93.19</td>\n",
       "      <td>7.38</td>\n",
       "      <td>26.220060</td>\n",
       "      <td>86.71</td>\n",
       "      <td>18.50</td>\n",
       "      <td>6.81</td>\n",
       "    </tr>\n",
       "  </tbody>\n",
       "</table>\n",
       "</div>"
      ],
      "text/plain": [
       "       specificity sensitivity       mean precision accuracy  \\\n",
       "values       93.19        7.38  26.220060     86.71    18.50   \n",
       "\n",
       "       False Positive Rate  \n",
       "values                6.81  "
      ]
     },
     "execution_count": 27,
     "metadata": {},
     "output_type": "execute_result"
    }
   ],
   "source": [
    "cal_error(predictions)"
   ]
  },
  {
   "cell_type": "markdown",
   "metadata": {},
   "source": [
    "Assigning manual penalties lowered the false positive rate to 6.8% and lowered our risk While we have fewer false positives, we're also missing opportunities to fund more loans and potentially make more money"
   ]
  },
  {
   "cell_type": "markdown",
   "metadata": {},
   "source": [
    "#### Random forest"
   ]
  },
  {
   "cell_type": "code",
   "execution_count": 28,
   "metadata": {},
   "outputs": [
    {
     "name": "stdout",
     "output_type": "stream",
     "text": [
      "0.996722600943891\n",
      "0.9982230997038499\n"
     ]
    }
   ],
   "source": [
    "from sklearn.ensemble import RandomForestClassifier\n",
    "rf = RandomForestClassifier(class_weight=\"balanced\", random_state=1)\n",
    "predictions = cross_val_predict(rf, features, target, cv=3)\n",
    "predictions = pd.Series(predictions)\n",
    "\n",
    "# False positives.\n",
    "fp_filter = (predictions == 1) & (loans[\"loan_status\"] == 0)\n",
    "fp = len(predictions[fp_filter])\n",
    "\n",
    "# True positives.`\n",
    "tp_filter = (predictions == 1) & (loans[\"loan_status\"] == 1)\n",
    "tp = len(predictions[tp_filter])\n",
    "\n",
    "# False negatives.\n",
    "fn_filter = (predictions == 0) & (loans[\"loan_status\"] == 1)\n",
    "fn = len(predictions[fn_filter])\n",
    "\n",
    "# True negatives\n",
    "tn_filter = (predictions == 0) & (loans[\"loan_status\"] == 0)\n",
    "tn = len(predictions[tn_filter])\n",
    "\n",
    "# Rates\n",
    "tpr = tp / (tp + fn)\n",
    "fpr = fp / (fp + tn)\n",
    "\n",
    "print(tpr)\n",
    "print(fpr)"
   ]
  },
  {
   "cell_type": "markdown",
   "metadata": {},
   "source": [
    "Using a random forest classifier didn't improve our false positive rate. The model is likely weighting too heavily on the 1 class, and still mostly predicting 1s"
   ]
  },
  {
   "cell_type": "code",
   "execution_count": 29,
   "metadata": {
    "scrolled": true
   },
   "outputs": [
    {
     "name": "stderr",
     "output_type": "stream",
     "text": [
      "C:\\Users\\Akshaya_Aadithya\\Anaconda3\\lib\\site-packages\\sklearn\\utils\\deprecation.py:87: FutureWarning: Function plot_partial_dependence is deprecated; The function ensemble.plot_partial_dependence has been deprecated in favour of sklearn.inspection.plot_partial_dependence in  0.21 and will be removed in 0.23.\n",
      "  warnings.warn(msg, category=FutureWarning)\n",
      "C:\\Users\\Akshaya_Aadithya\\Anaconda3\\lib\\site-packages\\sklearn\\utils\\deprecation.py:87: FutureWarning: Function partial_dependence is deprecated; The function ensemble.partial_dependence has been deprecated in favour of inspection.partial_dependence in 0.21 and will be removed in 0.23.\n",
      "  warnings.warn(msg, category=FutureWarning)\n",
      "C:\\Users\\Akshaya_Aadithya\\Anaconda3\\lib\\site-packages\\sklearn\\utils\\deprecation.py:87: FutureWarning: Function partial_dependence is deprecated; The function ensemble.partial_dependence has been deprecated in favour of inspection.partial_dependence in 0.21 and will be removed in 0.23.\n",
      "  warnings.warn(msg, category=FutureWarning)\n",
      "C:\\Users\\Akshaya_Aadithya\\Anaconda3\\lib\\site-packages\\sklearn\\utils\\deprecation.py:87: FutureWarning: Function partial_dependence is deprecated; The function ensemble.partial_dependence has been deprecated in favour of inspection.partial_dependence in 0.21 and will be removed in 0.23.\n",
      "  warnings.warn(msg, category=FutureWarning)\n",
      "C:\\Users\\Akshaya_Aadithya\\Anaconda3\\lib\\site-packages\\sklearn\\utils\\deprecation.py:87: FutureWarning: Function partial_dependence is deprecated; The function ensemble.partial_dependence has been deprecated in favour of inspection.partial_dependence in 0.21 and will be removed in 0.23.\n",
      "  warnings.warn(msg, category=FutureWarning)\n",
      "C:\\Users\\Akshaya_Aadithya\\Anaconda3\\lib\\site-packages\\sklearn\\utils\\deprecation.py:87: FutureWarning: Function partial_dependence is deprecated; The function ensemble.partial_dependence has been deprecated in favour of inspection.partial_dependence in 0.21 and will be removed in 0.23.\n",
      "  warnings.warn(msg, category=FutureWarning)\n",
      "C:\\Users\\Akshaya_Aadithya\\Anaconda3\\lib\\site-packages\\sklearn\\utils\\deprecation.py:87: FutureWarning: Function partial_dependence is deprecated; The function ensemble.partial_dependence has been deprecated in favour of inspection.partial_dependence in 0.21 and will be removed in 0.23.\n",
      "  warnings.warn(msg, category=FutureWarning)\n",
      "C:\\Users\\Akshaya_Aadithya\\Anaconda3\\lib\\site-packages\\sklearn\\utils\\deprecation.py:87: FutureWarning: Function partial_dependence is deprecated; The function ensemble.partial_dependence has been deprecated in favour of inspection.partial_dependence in 0.21 and will be removed in 0.23.\n",
      "  warnings.warn(msg, category=FutureWarning)\n",
      "C:\\Users\\Akshaya_Aadithya\\Anaconda3\\lib\\site-packages\\sklearn\\utils\\deprecation.py:87: FutureWarning: Function partial_dependence is deprecated; The function ensemble.partial_dependence has been deprecated in favour of inspection.partial_dependence in 0.21 and will be removed in 0.23.\n",
      "  warnings.warn(msg, category=FutureWarning)\n",
      "C:\\Users\\Akshaya_Aadithya\\Anaconda3\\lib\\site-packages\\sklearn\\utils\\deprecation.py:87: FutureWarning: Function partial_dependence is deprecated; The function ensemble.partial_dependence has been deprecated in favour of inspection.partial_dependence in 0.21 and will be removed in 0.23.\n",
      "  warnings.warn(msg, category=FutureWarning)\n"
     ]
    },
    {
     "data": {
      "image/png": "[encoded data removed]",
      "text/plain": [
       "<Figure size 1080x864 with 9 Axes>"
      ]
     },
     "metadata": {
      "needs_background": "light"
     },
     "output_type": "display_data"
    }
   ],
   "source": [
    "import matplotlib.pyplot as plt\n",
    "%matplotlib inline\n",
    "plt.rcParams['figure.figsize'] = (15,12)\n",
    "feature_names = np.array([' '.join([str(b), a]) for a,b in\n",
    "zip(features.columns,range(len(features.columns)))])\n",
    "\n",
    "from sklearn.ensemble.partial_dependence import plot_partial_dependence\n",
    "from sklearn.ensemble import GradientBoostingRegressor\n",
    "GBM = GradientBoostingRegressor(n_estimators=100,random_state=1).fit(features, target)\n",
    "feature = [15,5,12,4,6,13,2,1,14]\n",
    "fig, axis = plot_partial_dependence(GBM, features, feature,feature_names=feature_names)\n"
   ]
  },
  {
   "cell_type": "markdown",
   "metadata": {},
   "source": [
    "#### tweaking the penalties further."
   ]
  },
  {
   "cell_type": "code",
   "execution_count": 30,
   "metadata": {
    "scrolled": true
   },
   "outputs": [
    {
     "name": "stderr",
     "output_type": "stream",
     "text": [
      "C:\\Users\\Akshaya_Aadithya\\Anaconda3\\lib\\site-packages\\sklearn\\linear_model\\_logistic.py:939: ConvergenceWarning: lbfgs failed to converge (status=1):\n",
      "STOP: TOTAL NO. of ITERATIONS REACHED LIMIT.\n",
      "\n",
      "Increase the number of iterations (max_iter) or scale the data as shown in:\n",
      "    https://scikit-learn.org/stable/modules/preprocessing.html.\n",
      "Please also refer to the documentation for alternative solver options:\n",
      "    https://scikit-learn.org/stable/modules/linear_model.html#logistic-regression\n",
      "  extra_warning_msg=_LOGISTIC_SOLVER_CONVERGENCE_MSG)\n",
      "C:\\Users\\Akshaya_Aadithya\\Anaconda3\\lib\\site-packages\\sklearn\\linear_model\\_logistic.py:939: ConvergenceWarning: lbfgs failed to converge (status=1):\n",
      "STOP: TOTAL NO. of ITERATIONS REACHED LIMIT.\n",
      "\n",
      "Increase the number of iterations (max_iter) or scale the data as shown in:\n",
      "    https://scikit-learn.org/stable/modules/preprocessing.html.\n",
      "Please also refer to the documentation for alternative solver options:\n",
      "    https://scikit-learn.org/stable/modules/linear_model.html#logistic-regression\n",
      "  extra_warning_msg=_LOGISTIC_SOLVER_CONVERGENCE_MSG)\n"
     ]
    }
   ],
   "source": [
    "from sklearn.linear_model import LogisticRegression\n",
    "from sklearn.model_selection import cross_val_predict\n",
    "penalty = {\n",
    "    0: 13,\n",
    "    1: 1\n",
    "}\n",
    "\n",
    "lr= LogisticRegression(class_weight = penalty)\n",
    "\n",
    "predictions = cross_val_predict(lr, features, target, cv=3)\n",
    "predictions = pd.Series(predictions)"
   ]
  },
  {
   "cell_type": "code",
   "execution_count": 31,
   "metadata": {
    "scrolled": true
   },
   "outputs": [
    {
     "name": "stdout",
     "output_type": "stream",
     "text": [
      "7.377425275301521\n",
      "6.811451135241856\n",
      "\n",
      "Other Mesurements:\n",
      "0.0737742527530152\n",
      "0.06811451135241856\n"
     ]
    }
   ],
   "source": [
    "cal_error(predictions)# False positives.\n",
    "fp_filter = (predictions == 1) & (loans[\"loan_status\"] == 0)\n",
    "fp = len(predictions[fp_filter])\n",
    "\n",
    "# True positives.`\n",
    "tp_filter = (predictions == 1) & (loans[\"loan_status\"] == 1)\n",
    "tp = len(predictions[tp_filter])\n",
    "\n",
    "# False negatives.\n",
    "fn_filter = (predictions == 0) & (loans[\"loan_status\"] == 1)\n",
    "fn = len(predictions[fn_filter])\n",
    "\n",
    "# True negatives\n",
    "tn_filter = (predictions == 0) & (loans[\"loan_status\"] == 0)\n",
    "tn = len(predictions[tn_filter])\n",
    "\n",
    "# Rates\n",
    "tpr = tp / (tp + fn)\n",
    "fpr = fp / (fp + tn)\n",
    "\n",
    "print(tpr)\n",
    "print(fpr)"
   ]
  },
  {
   "cell_type": "markdown",
   "metadata": {},
   "source": [
    "Tweaking the penalties further lowered the false positive rate to 6.8%"
   ]
  }
 ],
 "metadata": {
  "kernelspec": {
   "display_name": "Python 3",
   "language": "python",
   "name": "python3"
  },
  "language_info": {
   "codemirror_mode": {
    "name": "ipython",
    "version": 3
   },
   "file_extension": ".py",
   "mimetype": "text/x-python",
   "name": "python",
   "nbconvert_exporter": "python",
   "pygments_lexer": "ipython3",
   "version": "3.7.3"
  }
 },
 "nbformat": 4,
 "nbformat_minor": 2
}
